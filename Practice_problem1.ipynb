{
  "nbformat": 4,
  "nbformat_minor": 0,
  "metadata": {
    "colab": {
      "provenance": [],
      "authorship_tag": "ABX9TyO4lQABAKlQFeCvknPqmHm6",
      "include_colab_link": true
    },
    "kernelspec": {
      "name": "python3",
      "display_name": "Python 3"
    },
    "language_info": {
      "name": "python"
    }
  },
  "cells": [
    {
      "cell_type": "markdown",
      "metadata": {
        "id": "view-in-github",
        "colab_type": "text"
      },
      "source": [
        "<a href=\"https://colab.research.google.com/github/ra-vb/python_code/blob/main/Practice_problem1.ipynb\" target=\"_parent\"><img src=\"https://colab.research.google.com/assets/colab-badge.svg\" alt=\"Open In Colab\"/></a>"
      ]
    },
    {
      "cell_type": "code",
      "execution_count": null,
      "metadata": {
        "colab": {
          "base_uri": "https://localhost:8080/"
        },
        "id": "ZF-T4LS5bAaw",
        "outputId": "bd4b23f6-8468-4fbd-98c4-f27010bf74df"
      },
      "outputs": [
        {
          "output_type": "stream",
          "name": "stdout",
          "text": [
            "Please enter the radius of the given circle: 3\n",
            " The area of the given circle is:  28.274333882308138\n"
          ]
        }
      ],
      "source": [
        "#1. Write a Python program which accepts the radius of a circle from the user and compute the area\n",
        "import numpy as np\n",
        "radius = float (input (\"Please enter the radius of the given circle: \"))\n",
        "area_circle = np.pi* radius * radius\n",
        "print (\" The area of the given circle is: \", area_circle)"
      ]
    },
    {
      "cell_type": "code",
      "source": [
        "#2. Write a Python Program to accept the details of a student like name, rollnumber and mark and display it number and mark and display it\n",
        "name=(input(\"Enter your name \"))\n",
        "roll_no=int(input(\"Enter your Roll number \"))\n",
        "mark=float(input(\"Enter your Mark \"))\n",
        "stdetails={\"Name\":name,\n",
        "           \"Roll Number\":roll_no,\n",
        "           \"Mark\":mark,\n",
        "           }\n",
        "print(stdetails)"
      ],
      "metadata": {
        "colab": {
          "base_uri": "https://localhost:8080/"
        },
        "id": "T4I5sIFLai9f",
        "outputId": "76c10218-07e5-4d7c-d619-f12b54b1d122"
      },
      "execution_count": null,
      "outputs": [
        {
          "output_type": "stream",
          "name": "stdout",
          "text": [
            "Enter your nameradha\n",
            "Enter your Roll number6\n",
            "Enter your Mark8\n",
            "{'Name': 'radha', 'Roll Number': 6, 'Mark': 8.0}\n"
          ]
        }
      ]
    },
    {
      "cell_type": "code",
      "source": [
        "#3.Write a Python program to get the largest number from a list.\n",
        "number_list=[12,56,78,3,5,99]\n",
        "print(number_list)\n",
        "max(number_list)\n"
      ],
      "metadata": {
        "colab": {
          "base_uri": "https://localhost:8080/"
        },
        "id": "vNkmSy60fZD2",
        "outputId": "0a835a1b-16f1-4e7a-f227-0b4143ef83f9"
      },
      "execution_count": null,
      "outputs": [
        {
          "output_type": "stream",
          "name": "stdout",
          "text": [
            "[12, 56, 78, 3, 5, 99]\n"
          ]
        },
        {
          "output_type": "execute_result",
          "data": {
            "text/plain": [
              "99"
            ]
          },
          "metadata": {},
          "execution_count": 7
        }
      ]
    },
    {
      "cell_type": "code",
      "source": [
        "#4.Given a range of first 10 numbers, write a Python program to iterate from start number to the end number and print the sum of the current number and previous number.\n",
        "for i in range(10):\n",
        "  c=i+1\n",
        "  print(f\"current={c} \")\n",
        "  d=c-1\n",
        "  print(f\"previous={d} \")\n",
        "  sum=c+d\n",
        "  print(f\"sum is {sum}\")\n"
      ],
      "metadata": {
        "colab": {
          "base_uri": "https://localhost:8080/"
        },
        "id": "g9QJz9q2nmtm",
        "outputId": "f4854eb9-5196-46a9-c6b2-a761673d94c0"
      },
      "execution_count": null,
      "outputs": [
        {
          "output_type": "stream",
          "name": "stdout",
          "text": [
            "current=1 \n",
            "previous=0 \n",
            "sum is 1\n",
            "current=2 \n",
            "previous=1 \n",
            "sum is 3\n",
            "current=3 \n",
            "previous=2 \n",
            "sum is 5\n",
            "current=4 \n",
            "previous=3 \n",
            "sum is 7\n",
            "current=5 \n",
            "previous=4 \n",
            "sum is 9\n",
            "current=6 \n",
            "previous=5 \n",
            "sum is 11\n",
            "current=7 \n",
            "previous=6 \n",
            "sum is 13\n",
            "current=8 \n",
            "previous=7 \n",
            "sum is 15\n",
            "current=9 \n",
            "previous=8 \n",
            "sum is 17\n",
            "current=10 \n",
            "previous=9 \n",
            "sum is 19\n"
          ]
        }
      ]
    },
    {
      "cell_type": "code",
      "source": [
        "#5.Write a Python program to print only those numbers which are divisible of 5.\n",
        "l1=[10,8,7,12,30,20]\n",
        "division_list=[]\n",
        "no_list=[]\n",
        "while len(l1)>0:\n",
        "  number=l1.pop()\n",
        "  if number%5 == 0:\n",
        "        division_list.append(number)\n",
        "  else:\n",
        "    no_list.append(number)\n",
        "print(f\"Divisible of 5 {division_list}\")\n",
        "#print(no_list)\n"
      ],
      "metadata": {
        "id": "-kcE0yJzvznY",
        "colab": {
          "base_uri": "https://localhost:8080/"
        },
        "outputId": "294e2cd6-026e-4256-a57a-f93c53f58110"
      },
      "execution_count": null,
      "outputs": [
        {
          "output_type": "stream",
          "name": "stdout",
          "text": [
            "Divisible of 5 [20, 30, 10]\n"
          ]
        }
      ]
    },
    {
      "cell_type": "code",
      "source": [
        "#6. Write a Python program to check whether a number is prime or not.\n",
        "p=float(input(\"Enter a number\"))\n",
        "if p > 1:\n",
        "    for i in range(2,int(p/2)+1):\n",
        "        if(p%i) == 0:\n",
        "            print(str(p) + \" is not prime\")\n",
        "            break;\n",
        "    else:\n",
        "        print(str(p) + \" is prime\")\n",
        "\n",
        "else:\n",
        "    print(str(p) + \" is not prime.\")"
      ],
      "metadata": {
        "colab": {
          "base_uri": "https://localhost:8080/"
        },
        "id": "1R7NeXpo1gfC",
        "outputId": "01fe5adc-0e16-4ac0-81d1-1fffa7d623a9"
      },
      "execution_count": null,
      "outputs": [
        {
          "output_type": "stream",
          "name": "stdout",
          "text": [
            "Enter a number7\n",
            "7.0 is prime\n"
          ]
        }
      ]
    },
    {
      "cell_type": "code",
      "source": [
        "#7.Write a Python program to reverse a list using for loop.\n",
        "list=[10,43,5,7]\n",
        "list_rev=[]\n",
        "for i in range(len(list)):\n",
        "  i=-i-1\n",
        "  list_rev.append(list[i])\n",
        "print(list)\n",
        "print(list_rev)"
      ],
      "metadata": {
        "id": "_r5pNkJh8wdC",
        "colab": {
          "base_uri": "https://localhost:8080/"
        },
        "outputId": "14b15e2b-f1e2-424f-c55c-38c82d8d27d2"
      },
      "execution_count": null,
      "outputs": [
        {
          "output_type": "stream",
          "name": "stdout",
          "text": [
            "[10, 43, 5, 7]\n",
            "[7, 5, 43, 10]\n"
          ]
        }
      ]
    },
    {
      "cell_type": "code",
      "source": [
        "#8.Write a Python program to print the following pattern.\n",
        "def pattern_pyramid(n):\n",
        "    if n > 0:\n",
        "        pattern_pyramid(n - 1)\n",
        "        print('*' * n)\n",
        "\n",
        "rows = 4\n",
        "pattern_pyramid(rows)"
      ],
      "metadata": {
        "colab": {
          "base_uri": "https://localhost:8080/"
        },
        "id": "JrnBqCOp13vd",
        "outputId": "396a4bb7-056e-4aa2-c9f8-365441631a35"
      },
      "execution_count": null,
      "outputs": [
        {
          "output_type": "stream",
          "name": "stdout",
          "text": [
            "*\n",
            "**\n",
            "***\n",
            "****\n"
          ]
        }
      ]
    },
    {
      "cell_type": "code",
      "source": [
        "#9.Write a Python program to find the maximum of three numbers\n",
        "def maximum(a, b, c):\n",
        "\n",
        "  if (a >= b) and (a >= c):\n",
        "        largest = a\n",
        "  elif (b >= a) and (b >= c):\n",
        "        largest = b\n",
        "  else:\n",
        "        largest = c\n",
        "  return largest\n",
        "a = 50\n",
        "b = 45\n",
        "c = 20\n",
        "print(maximum(a, b, c))"
      ],
      "metadata": {
        "colab": {
          "base_uri": "https://localhost:8080/"
        },
        "id": "lixhJkxfBPRt",
        "outputId": "09f8aa28-eb9d-44c0-e929-ce7661b11515"
      },
      "execution_count": null,
      "outputs": [
        {
          "output_type": "stream",
          "name": "stdout",
          "text": [
            "50\n"
          ]
        }
      ]
    },
    {
      "cell_type": "code",
      "source": [
        "#10. Write a Python program to construct the following pattern, using a nested for loop.\n",
        "n=5\n",
        "for i in range(n):\n",
        "  for j in range(i):\n",
        "    print(\"*\",end='')\n",
        "  print('')\n",
        "for i in range(n,0,-1):\n",
        "  for j in range(i):\n",
        "    print(\"*\",end='')\n",
        "  print('')\n"
      ],
      "metadata": {
        "id": "MNS8LVaKDMlM",
        "colab": {
          "base_uri": "https://localhost:8080/"
        },
        "outputId": "369880f7-9518-4585-8179-1cf52ba1cd00"
      },
      "execution_count": null,
      "outputs": [
        {
          "output_type": "stream",
          "name": "stdout",
          "text": [
            "\n",
            "*\n",
            "**\n",
            "***\n",
            "****\n",
            "*****\n",
            "****\n",
            "***\n",
            "**\n",
            "*\n"
          ]
        }
      ]
    }
  ]
}