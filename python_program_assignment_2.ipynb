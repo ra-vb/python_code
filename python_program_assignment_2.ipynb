{
  "nbformat": 4,
  "nbformat_minor": 0,
  "metadata": {
    "colab": {
      "provenance": [],
      "authorship_tag": "ABX9TyOs9UY2lMhYiRbFwpJw8/5O",
      "include_colab_link": true
    },
    "kernelspec": {
      "name": "python3",
      "display_name": "Python 3"
    },
    "language_info": {
      "name": "python"
    }
  },
  "cells": [
    {
      "cell_type": "markdown",
      "metadata": {
        "id": "view-in-github",
        "colab_type": "text"
      },
      "source": [
        "<a href=\"https://colab.research.google.com/github/ra-vb/python_code/blob/main/python_program_assignment_2.ipynb\" target=\"_parent\"><img src=\"https://colab.research.google.com/assets/colab-badge.svg\" alt=\"Open In Colab\"/></a>"
      ]
    },
    {
      "cell_type": "code",
      "execution_count": null,
      "metadata": {
        "id": "UKPMkLlbw9_J",
        "colab": {
          "base_uri": "https://localhost:8080/"
        },
        "outputId": "55c67b21-b812-4536-8bca-e7cf911f67a5"
      },
      "outputs": [
        {
          "output_type": "stream",
          "name": "stdout",
          "text": [
            "Enter a string: assembly\n",
            "Count of all characters in input string is =\n",
            " {'a': 1, 's': 2, 'e': 1, 'm': 1, 'b': 1, 'l': 1, 'y': 1}\n"
          ]
        }
      ],
      "source": [
        "#1. Write a Python program to accept a string value from the user and display the count of each character in that string.\n",
        "import pandas as pd\n",
        "\n",
        "string=input(\"Enter a string: \")\n",
        "char_count = {}\n",
        "for i in string:\n",
        "    if i in char_count:\n",
        "        char_count[i] += 1\n",
        "    else:\n",
        "        char_count[i] = 1\n",
        "print(\"Count of all characters in input string is =\\n \"\n",
        "      + str(char_count))"
      ]
    },
    {
      "cell_type": "code",
      "source": [
        "#2. Write a Python function to find the maximum of three numbers\n",
        "def maximum(a, b, c):\n",
        "  if (a >= b) and (a >= c):\n",
        "    largest = a\n",
        "  elif (b >= a) and (b >= c):\n",
        "      largest = b\n",
        "  else:\n",
        "        largest = c\n",
        "\n",
        "  return largest\n",
        "a = 34\n",
        "b = 12\n",
        "c = 7\n",
        "print(maximum(a, b, c))"
      ],
      "metadata": {
        "colab": {
          "base_uri": "https://localhost:8080/"
        },
        "id": "i_dmoy7Q5sRO",
        "outputId": "88e767e0-d674-47c1-e543-bf8d615ca418"
      },
      "execution_count": null,
      "outputs": [
        {
          "output_type": "stream",
          "name": "stdout",
          "text": [
            "34\n"
          ]
        }
      ]
    },
    {
      "cell_type": "code",
      "source": [
        "#3.Write a Python function called exponent(base,exp) that returns an integer value of base raises to the power of exp.\n",
        "def power(base,exp):\n",
        "    if(exp==0):\n",
        "        return 1\n",
        "    return base*power(base,exp-1)\n",
        "base=int(input(\"Enter base value: \"))\n",
        "exp=int(input(\"Enter exponential value: \"))\n",
        "print(\"Result:\",power(base,exp))"
      ],
      "metadata": {
        "colab": {
          "base_uri": "https://localhost:8080/"
        },
        "id": "EFOsldKw8jM_",
        "outputId": "7bb9c91a-c3fa-4c98-f6ed-48e258ff2325"
      },
      "execution_count": null,
      "outputs": [
        {
          "output_type": "stream",
          "name": "stdout",
          "text": [
            "Enter base value: 2\n",
            "Enter exponential value: 3\n",
            "Result: 8\n"
          ]
        }
      ]
    },
    {
      "cell_type": "code",
      "source": [
        "#4.Write a Python function that takes a positive integer and returns the sum of the cube of all the positive integers smaller than the specified number.\n",
        "def sum_cube(n):\n",
        "    n -= 1\n",
        "    sum = 0\n",
        "    while n > 0:\n",
        "        sum += n * n * n\n",
        "        n -= 1\n",
        "    return sum\n",
        "n = 4\n",
        "print(sum_cube(n))"
      ],
      "metadata": {
        "colab": {
          "base_uri": "https://localhost:8080/"
        },
        "id": "0Iy46J5WAXDY",
        "outputId": "ed6b0113-da70-4031-eb1d-17640c658db7"
      },
      "execution_count": null,
      "outputs": [
        {
          "output_type": "stream",
          "name": "stdout",
          "text": [
            "36\n"
          ]
        }
      ]
    },
    {
      "cell_type": "code",
      "source": [
        "#5.Write a Python program which iterates from 1 to 10. For multiples of 2,print “Fizz” instead of the number and for the multiples of 5, print “Buzz”.For numbers which are multiples of both 2 and 5, print “FizzBuzz”.\n",
        "for i in range(1,11):\n",
        "  if(i%2==0 and i%5==0):\n",
        "    print(\"FizzBuzz\")\n",
        "  elif(i%2 == 0):\n",
        "    print(\"Fizz\")\n",
        "  elif(i%5 == 0):\n",
        "    print(\"Buzz\")\n",
        "  else:\n",
        "    print(i)"
      ],
      "metadata": {
        "colab": {
          "base_uri": "https://localhost:8080/"
        },
        "id": "qx89Zu1UFRoB",
        "outputId": "e0c89c8c-516c-43b6-d7b4-0949cb4cc2b6"
      },
      "execution_count": null,
      "outputs": [
        {
          "output_type": "stream",
          "name": "stdout",
          "text": [
            "1\n",
            "Fizz\n",
            "3\n",
            "Fizz\n",
            "Buzz\n",
            "Fizz\n",
            "7\n",
            "Fizz\n",
            "9\n",
            "FizzBuzz\n"
          ]
        }
      ]
    },
    {
      "cell_type": "code",
      "source": [
        "#6.Write a Python program to find the most frequent item in a list of numbers.\n",
        "def most_frequent(List):\n",
        "  list = [4, 3, 22, 3, 2, 3]\n",
        "  return max(set(list), key = list.count)\n",
        "print(most_frequent(list))"
      ],
      "metadata": {
        "colab": {
          "base_uri": "https://localhost:8080/"
        },
        "id": "kH6Se0lfL77a",
        "outputId": "b1aef1b1-c76a-40ec-d7f5-a17ca4de89e0"
      },
      "execution_count": null,
      "outputs": [
        {
          "output_type": "stream",
          "name": "stdout",
          "text": [
            "3\n"
          ]
        }
      ]
    },
    {
      "cell_type": "code",
      "source": [
        "#7.Write a Python program to find the sum of squares of the numbers in a list.\n",
        "import numpy as np\n",
        "list = np.array([8, 5, 10, 2, 11])\n",
        "print(\"The original list : \", list)\n",
        "res = np.sum(np.square(list))\n",
        "print(\"The sum of squares of list : \", res)"
      ],
      "metadata": {
        "colab": {
          "base_uri": "https://localhost:8080/"
        },
        "id": "W_vMKPopNcVM",
        "outputId": "6bd02838-0738-42f5-a97a-2c00e80bc2c9"
      },
      "execution_count": null,
      "outputs": [
        {
          "output_type": "stream",
          "name": "stdout",
          "text": [
            "The original list :  [ 8  5 10  2 11]\n",
            "The sum of squares of list :  314\n"
          ]
        }
      ]
    },
    {
      "cell_type": "code",
      "source": [
        "#8. Write a Python program to find the sum of squares of the numbers in a list.\n",
        "for i in range(1,16):\n",
        "  if(i%2==0):\n",
        "    print(f\"{i}-even\",end=\" \")\n",
        "  else:\n",
        "    print(f\"{i}-odd\", end=\" \")"
      ],
      "metadata": {
        "colab": {
          "base_uri": "https://localhost:8080/"
        },
        "id": "KW_EsV-lWj0-",
        "outputId": "aa72c646-8517-4783-fbc4-07e03779e72c"
      },
      "execution_count": null,
      "outputs": [
        {
          "output_type": "stream",
          "name": "stdout",
          "text": [
            "1-odd 2-even 3-odd 4-even 5-odd 6-even 7-odd 8-even 9-odd 10-even 11-odd 12-even 13-odd 14-even 15-odd "
          ]
        }
      ]
    },
    {
      "cell_type": "code",
      "source": [
        "#9.Write a Python program to convert temperatures to and from Celsius Fahrenheit. [Formula: c/5=f-32/9 where c=temperature in Celsius and f= temperature in Fahrenheit.]\n",
        "print(\"Options \\n\")\n",
        "print(\"1.Convert temperatures from Fahrenheit to Celsius \\n\")\n",
        "print(\"2.Convert temperatures from Celsius to Fahrenheit \\n\")\n",
        "opt=int(input(\"Choose any Option(1 or 2) : \"))\n",
        "if opt == 1:\n",
        "  print(\"Convert temperatures from Fahrenheit to Celsius \\n\")\n",
        "  fahr = float(input(\"Enter Temperature in Fahrenheit: \"))\n",
        "  cel=(fahr-32)*5/9;\n",
        "  print(\"Temperature in Celsius =\",cel)\n",
        "elif opt == 2:\n",
        "  print(\"Convert temperatures from Celsius to Fahrenheit \\n\")\n",
        "  celsius = float(input(\"Enter Temperature in Celsius: \"))\n",
        "  fahr = (celsius*9/5)+32\n",
        "  print(\"Temperature in Fahrenheit =\",fahr)\n",
        "else:\n",
        "    print(\"Invalid Option\")"
      ],
      "metadata": {
        "colab": {
          "base_uri": "https://localhost:8080/"
        },
        "id": "Mi9b7GRCZ3MJ",
        "outputId": "0d9c7828-7165-49cb-9cf6-f7b2652b248d"
      },
      "execution_count": 3,
      "outputs": [
        {
          "output_type": "stream",
          "name": "stdout",
          "text": [
            "Options \n",
            "\n",
            "1.Convert temperatures from Fahrenheit to Celsius \n",
            "\n",
            "2.Convert temperatures from Celsius to Fahrenheit \n",
            "\n",
            "Choose any Option(1 or 2) : 1\n",
            "Convert temperatures from Fahrenheit to Celsius \n",
            "\n",
            "Enter Temperature in Fahrenheit: 41\n",
            "Temperature in Celsius = 5.0\n"
          ]
        }
      ]
    },
    {
      "cell_type": "code",
      "source": [
        "#10.Write a Python function to calculate the factorial of a number (a nonnegative integer). The function accepts the number as an argument.\n",
        "def fact(n):\n",
        "  if(n==0):\n",
        "    return 1\n",
        "  else:\n",
        "    return n*fact(n-1)\n",
        "n=int(input(\"Enter a number :\"))\n",
        "print(fact(n))"
      ],
      "metadata": {
        "colab": {
          "base_uri": "https://localhost:8080/"
        },
        "id": "TC57ECMkzDeO",
        "outputId": "30d818a6-c97e-4221-eaaa-f90a398bef7e"
      },
      "execution_count": 17,
      "outputs": [
        {
          "output_type": "stream",
          "name": "stdout",
          "text": [
            "Enter a number :5\n",
            "120\n"
          ]
        }
      ]
    }
  ]
}